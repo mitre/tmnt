{
 "cells": [
  {
   "cell_type": "markdown",
   "id": "94c8dd10",
   "metadata": {},
   "source": [
    "# Topic Modeling on the 20 Newsgroup Dataset"
   ]
  },
  {
   "cell_type": "markdown",
   "id": "e02f10fd",
   "metadata": {},
   "source": [
    "This brief tutorial walks through an end-to-end example of training a topic model on the 20 Newsgroup dataset. To keep things simple, this tutorial explores only a few different parameters and choices involved when training a topic model. In addition to training a model, the tutorial briefly explores examining the results of the topic modeling process, including methods for visualizing the resulting topic assignments.\n",
    "\n",
    "The first step in this process is to download the 20 news dataset:"
   ]
  },
  {
   "cell_type": "code",
   "execution_count": 2,
   "id": "a0ada94d",
   "metadata": {},
   "outputs": [],
   "source": [
    "from sklearn.datasets import fetch_20newsgroups\n",
    "from tmnt.preprocess.vectorizer import TMNTVectorizer\n",
    "\n",
    "data, y = fetch_20newsgroups(shuffle=True, random_state=1,\n",
    "                             remove=('headers', 'footers', 'quotes'),\n",
    "                             return_X_y=True)"
   ]
  },
  {
   "cell_type": "markdown",
   "id": "00b53f1b",
   "metadata": {},
   "source": [
    "Next, we leverage the functionality within :py:class:`tmnt.preprocess.vectorizer.TMNTVectorizer` to map the documents into a document-term matrix (i.e. a matrix where each row corresponds to a document in the dataset and each column corresponds to a term in the vocabulary)."
   ]
  },
  {
   "cell_type": "code",
   "execution_count": 3,
   "id": "c868c87e",
   "metadata": {},
   "outputs": [],
   "source": [
    "tf_vectorizer = TMNTVectorizer(vocab_size=2000)\n",
    "X, _ = tf_vectorizer.fit_transform(data)"
   ]
  },
  {
   "cell_type": "markdown",
   "id": "ed4367a5",
   "metadata": {},
   "source": [
    "Given the resulting document-term matrix ``X``, we can fit a model:"
   ]
  },
  {
   "cell_type": "code",
   "execution_count": 4,
   "id": "d68affb5",
   "metadata": {},
   "outputs": [],
   "source": [
    "from tmnt.estimator import BowEstimator\n",
    "vocabulary = tf_vectorizer.get_vocab()\n",
    "estimator = BowEstimator(vocabulary)\n",
    "_ = estimator.fit(X)"
   ]
  },
  {
   "cell_type": "code",
   "execution_count": null,
   "id": "6a7d8db8",
   "metadata": {},
   "outputs": [],
   "source": []
  }
 ],
 "metadata": {
  "kernelspec": {
   "display_name": "Python 3",
   "language": "python",
   "name": "python3"
  },
  "language_info": {
   "codemirror_mode": {
    "name": "ipython",
    "version": 3
   },
   "file_extension": ".py",
   "mimetype": "text/x-python",
   "name": "python",
   "nbconvert_exporter": "python",
   "pygments_lexer": "ipython3",
   "version": "3.7.9"
  }
 },
 "nbformat": 4,
 "nbformat_minor": 5
}
